{
 "cells": [
  {
   "cell_type": "code",
   "execution_count": 1,
   "metadata": {},
   "outputs": [],
   "source": [
    "import pandas as pd"
   ]
  },
  {
   "cell_type": "code",
   "execution_count": 15,
   "metadata": {},
   "outputs": [],
   "source": [
    "# The path to all the sales data files\n",
    "salesFiles = ['sales_39832.csv',\n",
    "'sales_73522.csv',\n",
    "'sales_40067.csv',\n",
    "'sales_50466.csv',\n",
    "'sales_74172.csv',\n",
    "'sales_88136.csv',\n",
    "'sales_90146.csv',\n",
    "'sales_51323.csv',\n",
    "'sales_43914.csv',\n",
    "'sales_15816.csv',\n",
    "'sales_32359.csv',\n",
    "'sales_31902.csv',\n",
    "'sales_29597.csv']"
   ]
  },
  {
   "cell_type": "code",
   "execution_count": 5,
   "metadata": {},
   "outputs": [],
   "source": [
    "# Joining up the sales data into one file\n",
    "Sales = pd.DataFrame()\n",
    "count = 0\n",
    "for filename in salesFiles:\n",
    "    name = 'data/' + filename\n",
    "    temp = pd.read_csv(name)\n",
    "    count += len(temp)\n",
    "    Sales = Sales.append(temp, ignore_index = True)"
   ]
  },
  {
   "cell_type": "code",
   "execution_count": 6,
   "metadata": {},
   "outputs": [],
   "source": [
    "# Saving the sales combined sales file if we need it later\n",
    "Sales.to_csv('data/TotalSales.csv')"
   ]
  },
  {
   "cell_type": "code",
   "execution_count": 7,
   "metadata": {},
   "outputs": [],
   "source": [
    "# Splitting the time and date up into two columns to merge the Date column with the weather data\n",
    "Sales['Time'] = Sales['Date'].apply(lambda x: x[11:])\n",
    "Sales['Date'] = Sales['Date'].apply(lambda x: x[0:10])"
   ]
  },
  {
   "cell_type": "code",
   "execution_count": 8,
   "metadata": {},
   "outputs": [],
   "source": [
    "# Joining up the temperature datasets from 2017 and 2018\n",
    "temperature = pd.read_csv('data/2017_tmp_data.csv')\n",
    "temp = pd.read_csv('data/2018_tmp_data.csv')\n",
    "temperature = temperature.append(temp, ignore_index = True)"
   ]
  },
  {
   "cell_type": "code",
   "execution_count": 9,
   "metadata": {},
   "outputs": [],
   "source": [
    "# Joining up the rainfall datasets from 2017 to 2018\n",
    "rainfall = pd.read_csv('data/Rainfall_2017.csv')\n",
    "temp = pd.read_csv('data/Rainfall_2018.csv')\n",
    "rainfall = rainfall.append(temp, ignore_index = True)"
   ]
  },
  {
   "cell_type": "code",
   "execution_count": 10,
   "metadata": {},
   "outputs": [],
   "source": [
    "# Combining the datasets on rainfall and temperature\n",
    "weather = temperature.merge(rainfall, on=['Year', 'Month', 'Day'])[['Year', 'Month', 'Day', 'Maximum temperature (Degree C)', 'Rainfall amount (millimetres)']]"
   ]
  },
  {
   "cell_type": "code",
   "execution_count": 11,
   "metadata": {},
   "outputs": [],
   "source": [
    "# The weather data had 3 columns for 'Year', 'Month' and 'Day' \n",
    "# so they were joined into one column 'Date'\n",
    "weather['Date'] = (weather['Year'].map(str) + '-' \n",
    "                   + weather['Month'].apply(lambda x: str(x).zfill(2)) + '-' \n",
    "                   + weather['Day'].apply(lambda x: str(x).zfill(2)))"
   ]
  },
  {
   "cell_type": "code",
   "execution_count": 12,
   "metadata": {},
   "outputs": [],
   "source": [
    "# Joining up the weather data with the sales data\n",
    "total = pd.merge(Sales.drop(['Customer Name', 'Customer Code', 'Note', 'Discount', 'AccountCodeSale', 'AccountCodePurchase', 'Register', 'User', 'Status', 'Sku', 'Line Type', 'Loyalty'], axis=1)\n",
    "                , weather.drop(['Year', 'Month', 'Day'], axis=1)\n",
    "                , on='Date'\n",
    "                , how = 'inner')"
   ]
  },
  {
   "cell_type": "code",
   "execution_count": 13,
   "metadata": {},
   "outputs": [],
   "source": [
    "# Each transaction had multiple rows, one for each item, one for the total, \n",
    "# one for any discount and an extra row if the payment was made by credit card.\n",
    "# Also there were many duplicates. This cleans all this up into a single row\n",
    "# retaining the total price.\n",
    "idx = total.groupby(['Receipt Number'])['Total'].transform(max) == total['Total']\n",
    "simplified = total[idx].drop_duplicates(subset = ['Date', 'Receipt Number', 'Total', 'Time'])"
   ]
  },
  {
   "cell_type": "code",
   "execution_count": 14,
   "metadata": {},
   "outputs": [],
   "source": [
    "# Save the processed data\n",
    "simplified.to_csv('data/ProcessedData.csv')"
   ]
  },
  {
   "cell_type": "code",
   "execution_count": null,
   "metadata": {},
   "outputs": [],
   "source": []
  }
 ],
 "metadata": {
  "kernelspec": {
   "display_name": "Python 3",
   "language": "python",
   "name": "python3"
  },
  "language_info": {
   "codemirror_mode": {
    "name": "ipython",
    "version": 3
   },
   "file_extension": ".py",
   "mimetype": "text/x-python",
   "name": "python",
   "nbconvert_exporter": "python",
   "pygments_lexer": "ipython3",
   "version": "3.6.6"
  }
 },
 "nbformat": 4,
 "nbformat_minor": 2
}
